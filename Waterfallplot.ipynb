{
 "cells": [
  {
   "cell_type": "code",
   "execution_count": null,
   "metadata": {},
   "outputs": [],
   "source": [
    "import numpy as np\n",
    "import matplotlib.pyplot as plt\n",
    "\n",
    "# Beispielwerte (ersetzen Sie diese durch Ihre tatsächlichen SHAP-Werte und Basisvorhersage)\n",
    "base_value = np.mean(y_pred)  # Basisvorhersage (z.B. Mittelwert der Zielvariable)\n",
    "\n",
    "# Annahme: shap_values ist eine Liste von shap.Explanation-Objekten\n",
    "# Hier extrahieren wir die SHAP-Werte für das erste Beispiel\n",
    "shap_values_example = shap_values[0].values\n",
    "feature_names = shap_values[0].feature_names  # Annahme: Feature-Namen sind in den SHAP-Werten enthalten\n",
    "\n",
    "# Kumulative Summe der Basisvorhersage und SHAP-Werte berechnen\n",
    "cumulative_contributions = np.cumsum([base_value] + list(shap_values_example))\n",
    "\n",
    "# Wasserfall-Plot erstellen\n",
    "plt.figure(figsize=(10, 6))\n",
    "\n",
    "# Balken zeichnen\n",
    "for i in range(1, len(cumulative_contributions)):\n",
    "    plt.barh(i, cumulative_contributions[i] - cumulative_contributions[i-1], \n",
    "             left=cumulative_contributions[i-1], \n",
    "             color='red' if shap_values_example[i-1] > 0 else 'blue', \n",
    "             alpha=0.7)\n",
    "\n",
    "# Linie zeichnen\n",
    "plt.step(cumulative_contributions, range(len(cumulative_contributions)), where='mid', color='k', linestyle='--')\n",
    "\n",
    "# Beschriftungen hinzufügen\n",
    "plt.yticks(range(len(cumulative_contributions)), ['Base'] + feature_names)\n",
    "plt.ylabel('Features')\n",
    "plt.xlabel('Contribution to Prediction')\n",
    "plt.title('Waterfall Plot of SHAP Values')\n",
    "plt.axvline(base_value + sum(shap_values_example), color='r', linestyle='-', label=f'Prediction: {base_value + sum(shap_values_example):.2f}')\n",
    "plt.legend()\n",
    "plt.show()"
   ]
  }
 ],
 "metadata": {
  "kernelspec": {
   "display_name": "Python 3",
   "language": "python",
   "name": "python3"
  },
  "language_info": {
   "name": "python",
   "version": "3.11.6"
  }
 },
 "nbformat": 4,
 "nbformat_minor": 2
}
